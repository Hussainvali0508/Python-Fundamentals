{
 "cells": [
  {
   "cell_type": "code",
   "execution_count": null,
   "id": "43a2047c",
   "metadata": {},
   "outputs": [],
   "source": []
  },
  {
   "cell_type": "code",
   "execution_count": null,
   "id": "0612fd79",
   "metadata": {},
   "outputs": [],
   "source": [
    "last_name='vali'\n",
    "first_name=\"hussain\""
   ]
  },
  {
   "cell_type": "code",
   "execution_count": null,
   "id": "e4494f50",
   "metadata": {},
   "outputs": [],
   "source": [
    "#req: i want to get the fullname?"
   ]
  },
  {
   "cell_type": "code",
   "execution_count": null,
   "id": "751fe629",
   "metadata": {},
   "outputs": [],
   "source": [
    "Understanding the concepts of f string\n",
    "#general syntax of f string\n",
    "(f\" custom words{placeholder-1}{placeholder-2}.......{placeholder-n}\")"
   ]
  },
  {
   "cell_type": "code",
   "execution_count": 14,
   "id": "36674abe",
   "metadata": {},
   "outputs": [
    {
     "ename": "NameError",
     "evalue": "name 'first_name' is not defined",
     "output_type": "error",
     "traceback": [
      "\u001b[1;31m---------------------------------------------------------------------------\u001b[0m",
      "\u001b[1;31mNameError\u001b[0m                                 Traceback (most recent call last)",
      "\u001b[1;32m~\\AppData\\Local\\Temp\\ipykernel_10972\\4071262590.py\u001b[0m in \u001b[0;36m<module>\u001b[1;34m\u001b[0m\n\u001b[1;32m----> 1\u001b[1;33m \u001b[0mfull_name\u001b[0m \u001b[1;33m=\u001b[0m \u001b[1;34mf\" {first_name} {last_name} \"\u001b[0m\u001b[1;33m\u001b[0m\u001b[1;33m\u001b[0m\u001b[0m\n\u001b[0m\u001b[0;32m      2\u001b[0m \u001b[0mprint\u001b[0m\u001b[1;33m(\u001b[0m\u001b[0mfull_name\u001b[0m\u001b[1;33m)\u001b[0m\u001b[1;33m\u001b[0m\u001b[1;33m\u001b[0m\u001b[0m\n",
      "\u001b[1;31mNameError\u001b[0m: name 'first_name' is not defined"
     ]
    }
   ],
   "source": [
    "full_name = f\" {first_name} {last_name} \"\n",
    "print(full_name)\n"
   ]
  },
  {
   "cell_type": "code",
   "execution_count": 17,
   "id": "4bc58cbf",
   "metadata": {},
   "outputs": [
    {
     "name": "stdout",
     "output_type": "stream",
     "text": [
      " hussain vali \n"
     ]
    }
   ],
   "source": [
    "lastname='vali'\n",
    "firstname=\"hussain\"\n",
    "fullname = f\" {firstname} {lastname} \"\n",
    "print(fullname)\n"
   ]
  },
  {
   "cell_type": "code",
   "execution_count": 18,
   "id": "8fb61a18",
   "metadata": {},
   "outputs": [
    {
     "name": "stdout",
     "output_type": "stream",
     "text": [
      " keep up the good work, Hussain Vali \n"
     ]
    }
   ],
   "source": [
    "ram=f\" keep up the good work,{fullname.title()}\"\n",
    "print(ram)"
   ]
  },
  {
   "cell_type": "code",
   "execution_count": 19,
   "id": "8edc79e5",
   "metadata": {},
   "outputs": [
    {
     "name": "stdout",
     "output_type": "stream",
     "text": [
      " keep up the good work, HUSSAIN VALI \n"
     ]
    }
   ],
   "source": [
    "ram=f\" keep up the good work,{fullname.upper()}\"\n",
    "print(ram)"
   ]
  },
  {
   "cell_type": "code",
   "execution_count": 20,
   "id": "5f86e0f2",
   "metadata": {},
   "outputs": [
    {
     "name": "stdout",
     "output_type": "stream",
     "text": [
      " keep up the good work, hussain vali \n"
     ]
    }
   ],
   "source": [
    "ram=f\" keep up the good work,{fullname.lower()}\"\n",
    "print(ram)"
   ]
  },
  {
   "cell_type": "code",
   "execution_count": 21,
   "id": "40a0b02a",
   "metadata": {},
   "outputs": [
    {
     "data": {
      "text/plain": [
       "str"
      ]
     },
     "execution_count": 21,
     "metadata": {},
     "output_type": "execute_result"
    }
   ],
   "source": [
    "type(fullname)"
   ]
  },
  {
   "cell_type": "code",
   "execution_count": null,
   "id": "57c7be46",
   "metadata": {},
   "outputs": [],
   "source": [
    "Adding the whitespaces:"
   ]
  },
  {
   "cell_type": "code",
   "execution_count": 22,
   "id": "2e051d72",
   "metadata": {},
   "outputs": [
    {
     "name": "stdout",
     "output_type": "stream",
     "text": [
      "favorite_programming_language:pythonjavac++swiftcobalpascal\n"
     ]
    }
   ],
   "source": [
    "print(\"favorite_programming_language:pythonjavac++swiftcobalpascal\")"
   ]
  },
  {
   "cell_type": "code",
   "execution_count": 24,
   "id": "b5ca6faa",
   "metadata": {},
   "outputs": [
    {
     "ename": "SyntaxError",
     "evalue": "unexpected character after line continuation character (2955314560.py, line 1)",
     "output_type": "error",
     "traceback": [
      "\u001b[1;36m  File \u001b[1;32m\"C:\\Users\\ADMIN\\AppData\\Local\\Temp\\ipykernel_10972\\2955314560.py\"\u001b[1;36m, line \u001b[1;32m1\u001b[0m\n\u001b[1;33m    \\n------>it is called as new line delimeter\u001b[0m\n\u001b[1;37m     ^\u001b[0m\n\u001b[1;31mSyntaxError\u001b[0m\u001b[1;31m:\u001b[0m unexpected character after line continuation character\n"
     ]
    }
   ],
   "source": [
    "\\n------>it is called as new line delimeter\n",
    "print(\"favorite_programming_language:\\npython\\njava\\nc++\\nswift\\ncobal\\npascal\")"
   ]
  },
  {
   "cell_type": "code",
   "execution_count": 25,
   "id": "a38fd6a2",
   "metadata": {},
   "outputs": [
    {
     "name": "stdout",
     "output_type": "stream",
     "text": [
      "favorite_programming_language:\n",
      "python\n",
      "java\n",
      "c++\n",
      "swift\n",
      "cobal\n",
      "pascal\n"
     ]
    }
   ],
   "source": [
    "print(\"favorite_programming_language:\\npython\\njava\\nc++\\nswift\\ncobal\\npascal\")"
   ]
  },
  {
   "cell_type": "code",
   "execution_count": null,
   "id": "bd47824d",
   "metadata": {},
   "outputs": [],
   "source": [
    "\\t-------> tab delimeter"
   ]
  },
  {
   "cell_type": "code",
   "execution_count": 26,
   "id": "40d529ee",
   "metadata": {},
   "outputs": [
    {
     "name": "stdout",
     "output_type": "stream",
     "text": [
      "favorite_programming_language:\tpython\tjava\tc++\tswift\tcobal\tpascal\n"
     ]
    }
   ],
   "source": [
    "print(\"favorite_programming_language:\\tpython\\tjava\\tc++\\tswift\\tcobal\\tpascal\")"
   ]
  },
  {
   "cell_type": "code",
   "execution_count": 27,
   "id": "ba78a70e",
   "metadata": {},
   "outputs": [
    {
     "name": "stdout",
     "output_type": "stream",
     "text": [
      "favorite_programming_language:\n",
      "\tpython\n",
      "\tjava\n",
      "\tc++\n",
      "\tswift\n",
      "\tcobal\n",
      "\tpascal\n"
     ]
    }
   ],
   "source": [
    "print(\"favorite_programming_language:\\n\\tpython\\n\\tjava\\n\\tc++\\n\\tswift\\n\\tcobal\\n\\tpascal\")"
   ]
  },
  {
   "cell_type": "code",
   "execution_count": 28,
   "id": "f6c10364",
   "metadata": {},
   "outputs": [
    {
     "ename": "SyntaxError",
     "evalue": "invalid syntax (3383116739.py, line 1)",
     "output_type": "error",
     "traceback": [
      "\u001b[1;36m  File \u001b[1;32m\"C:\\Users\\ADMIN\\AppData\\Local\\Temp\\ipykernel_10972\\3383116739.py\"\u001b[1;36m, line \u001b[1;32m1\u001b[0m\n\u001b[1;33m    Removing whitespaces from strings:\u001b[0m\n\u001b[1;37m             ^\u001b[0m\n\u001b[1;31mSyntaxError\u001b[0m\u001b[1;31m:\u001b[0m invalid syntax\n"
     ]
    }
   ],
   "source": [
    "Removing whitespaces from strings:\n",
    "    name=\"python\"\n",
    "    print(name)"
   ]
  },
  {
   "cell_type": "code",
   "execution_count": 29,
   "id": "14e9f81a",
   "metadata": {},
   "outputs": [
    {
     "ename": "IndentationError",
     "evalue": "unexpected indent (2455451029.py, line 2)",
     "output_type": "error",
     "traceback": [
      "\u001b[1;36m  File \u001b[1;32m\"C:\\Users\\ADMIN\\AppData\\Local\\Temp\\ipykernel_10972\\2455451029.py\"\u001b[1;36m, line \u001b[1;32m2\u001b[0m\n\u001b[1;33m    print(name)\u001b[0m\n\u001b[1;37m    ^\u001b[0m\n\u001b[1;31mIndentationError\u001b[0m\u001b[1;31m:\u001b[0m unexpected indent\n"
     ]
    }
   ],
   "source": [
    " name=\"python\"\n",
    "    print(name)"
   ]
  },
  {
   "cell_type": "code",
   "execution_count": 30,
   "id": "e8471a8c",
   "metadata": {},
   "outputs": [
    {
     "name": "stdout",
     "output_type": "stream",
     "text": [
      "python\n"
     ]
    }
   ],
   "source": [
    "name=\"python\"\n",
    "print(name)"
   ]
  },
  {
   "cell_type": "code",
   "execution_count": 31,
   "id": "af74153b",
   "metadata": {},
   "outputs": [
    {
     "name": "stdout",
     "output_type": "stream",
     "text": [
      "      python\n"
     ]
    }
   ],
   "source": [
    "name1=\"      python\"\n",
    "print(name1)"
   ]
  },
  {
   "cell_type": "code",
   "execution_count": 32,
   "id": "2cc2ee31",
   "metadata": {},
   "outputs": [
    {
     "name": "stdout",
     "output_type": "stream",
     "text": [
      "python      \n"
     ]
    }
   ],
   "source": [
    "name2=\"python      \"\n",
    "print(name2)"
   ]
  },
  {
   "cell_type": "code",
   "execution_count": 33,
   "id": "92abfa68",
   "metadata": {},
   "outputs": [
    {
     "data": {
      "text/plain": [
       "'python'"
      ]
     },
     "execution_count": 33,
     "metadata": {},
     "output_type": "execute_result"
    }
   ],
   "source": [
    "name1.lstrip()"
   ]
  },
  {
   "cell_type": "code",
   "execution_count": 34,
   "id": "5bb81d77",
   "metadata": {},
   "outputs": [
    {
     "data": {
      "text/plain": [
       "'python'"
      ]
     },
     "execution_count": 34,
     "metadata": {},
     "output_type": "execute_result"
    }
   ],
   "source": [
    "name2.rstrip()"
   ]
  },
  {
   "cell_type": "code",
   "execution_count": null,
   "id": "928d8c13",
   "metadata": {},
   "outputs": [],
   "source": [
    "name3= \"        python           \""
   ]
  },
  {
   "cell_type": "code",
   "execution_count": 36,
   "id": "31662199",
   "metadata": {},
   "outputs": [
    {
     "ename": "NameError",
     "evalue": "name 'name3' is not defined",
     "output_type": "error",
     "traceback": [
      "\u001b[1;31m---------------------------------------------------------------------------\u001b[0m",
      "\u001b[1;31mNameError\u001b[0m                                 Traceback (most recent call last)",
      "\u001b[1;32m~\\AppData\\Local\\Temp\\ipykernel_10972\\215179887.py\u001b[0m in \u001b[0;36m<module>\u001b[1;34m\u001b[0m\n\u001b[1;32m----> 1\u001b[1;33m \u001b[0mname3\u001b[0m\u001b[1;33m.\u001b[0m\u001b[0mstrip\u001b[0m\u001b[1;33m(\u001b[0m\u001b[1;33m)\u001b[0m\u001b[1;33m\u001b[0m\u001b[1;33m\u001b[0m\u001b[0m\n\u001b[0m",
      "\u001b[1;31mNameError\u001b[0m: name 'name3' is not defined"
     ]
    }
   ],
   "source": [
    "name3.strip()"
   ]
  },
  {
   "cell_type": "code",
   "execution_count": 41,
   "id": "511953c7",
   "metadata": {},
   "outputs": [
    {
     "name": "stdout",
     "output_type": "stream",
     "text": [
      "        python           \n"
     ]
    },
    {
     "data": {
      "text/plain": [
       "'python'"
      ]
     },
     "execution_count": 41,
     "metadata": {},
     "output_type": "execute_result"
    }
   ],
   "source": [
    "name3= \"        python           \"\n",
    "\n",
    "print(name3)\n",
    "name3.strip()"
   ]
  }
 ],
 "metadata": {
  "kernelspec": {
   "display_name": "Python 3 (ipykernel)",
   "language": "python",
   "name": "python3"
  },
  "language_info": {
   "codemirror_mode": {
    "name": "ipython",
    "version": 3
   },
   "file_extension": ".py",
   "mimetype": "text/x-python",
   "name": "python",
   "nbconvert_exporter": "python",
   "pygments_lexer": "ipython3",
   "version": "3.9.13"
  }
 },
 "nbformat": 4,
 "nbformat_minor": 5
}
