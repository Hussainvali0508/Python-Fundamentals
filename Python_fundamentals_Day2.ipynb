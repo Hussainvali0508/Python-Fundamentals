{
 "cells": [
  {
   "cell_type": "code",
   "execution_count": null,
   "id": "486e454a",
   "metadata": {},
   "outputs": [],
   "source": [
    "Understanding the variables in python:\n",
    "    "
   ]
  },
  {
   "cell_type": "code",
   "execution_count": 1,
   "id": "0c473e56",
   "metadata": {},
   "outputs": [
    {
     "name": "stdout",
     "output_type": "stream",
     "text": [
      "13\n"
     ]
    }
   ],
   "source": [
    "x=5\n",
    "y=8\n",
    "z=x+y\n",
    "print(z)"
   ]
  },
  {
   "cell_type": "code",
   "execution_count": null,
   "id": "07c94cf6",
   "metadata": {},
   "outputs": [],
   "source": [
    "Rules for Declaring the variables:"
   ]
  },
  {
   "cell_type": "code",
   "execution_count": 5,
   "id": "74d10d7f",
   "metadata": {},
   "outputs": [
    {
     "ename": "SyntaxError",
     "evalue": "invalid syntax (2152765924.py, line 1)",
     "output_type": "error",
     "traceback": [
      "\u001b[1;36m  File \u001b[1;32m\"C:\\Users\\ADMIN\\AppData\\Local\\Temp\\ipykernel_3068\\2152765924.py\"\u001b[1;36m, line \u001b[1;32m1\u001b[0m\n\u001b[1;33m    Rule 1: No name space\u001b[0m\n\u001b[1;37m         ^\u001b[0m\n\u001b[1;31mSyntaxError\u001b[0m\u001b[1;31m:\u001b[0m invalid syntax\n"
     ]
    }
   ],
   "source": [
    "Rule 1: No name space \n",
    "    first Name=\"Hussain\"\n",
    "    print(first Name)"
   ]
  },
  {
   "cell_type": "code",
   "execution_count": 6,
   "id": "a90795c9",
   "metadata": {},
   "outputs": [
    {
     "name": "stdout",
     "output_type": "stream",
     "text": [
      "Hussain\n"
     ]
    }
   ],
   "source": [
    "firstName=\"Hussain\"\n",
    "print(firstName)"
   ]
  },
  {
   "cell_type": "code",
   "execution_count": 9,
   "id": "067953ed",
   "metadata": {},
   "outputs": [
    {
     "name": "stdout",
     "output_type": "stream",
     "text": [
      "Hussain\n"
     ]
    }
   ],
   "source": [
    "first_Name=\"Hussain\"\n",
    "print(first_Name)"
   ]
  },
  {
   "cell_type": "code",
   "execution_count": 8,
   "id": "835ce379",
   "metadata": {},
   "outputs": [
    {
     "ename": "SyntaxError",
     "evalue": "cannot assign to operator (3310926245.py, line 1)",
     "output_type": "error",
     "traceback": [
      "\u001b[1;36m  File \u001b[1;32m\"C:\\Users\\ADMIN\\AppData\\Local\\Temp\\ipykernel_3068\\3310926245.py\"\u001b[1;36m, line \u001b[1;32m1\u001b[0m\n\u001b[1;33m    first-Name=\"Hussain\"\u001b[0m\n\u001b[1;37m    ^\u001b[0m\n\u001b[1;31mSyntaxError\u001b[0m\u001b[1;31m:\u001b[0m cannot assign to operator\n"
     ]
    }
   ],
   "source": [
    "first-Name=\"Hussain\"\n",
    "print(first-Name)"
   ]
  },
  {
   "cell_type": "code",
   "execution_count": null,
   "id": "ae27d990",
   "metadata": {},
   "outputs": [],
   "source": [
    "Rule 2: variable name should not start with a number"
   ]
  },
  {
   "cell_type": "code",
   "execution_count": 10,
   "id": "1bca6521",
   "metadata": {},
   "outputs": [
    {
     "ename": "SyntaxError",
     "evalue": "invalid syntax (2116162297.py, line 1)",
     "output_type": "error",
     "traceback": [
      "\u001b[1;36m  File \u001b[1;32m\"C:\\Users\\ADMIN\\AppData\\Local\\Temp\\ipykernel_3068\\2116162297.py\"\u001b[1;36m, line \u001b[1;32m1\u001b[0m\n\u001b[1;33m    1name='Vali'\u001b[0m\n\u001b[1;37m     ^\u001b[0m\n\u001b[1;31mSyntaxError\u001b[0m\u001b[1;31m:\u001b[0m invalid syntax\n"
     ]
    }
   ],
   "source": [
    "1name='Vali'\n",
    "print(1name)"
   ]
  },
  {
   "cell_type": "code",
   "execution_count": 11,
   "id": "0331ef66",
   "metadata": {},
   "outputs": [
    {
     "name": "stdout",
     "output_type": "stream",
     "text": [
      "Vali\n"
     ]
    }
   ],
   "source": [
    "na1me='Vali'\n",
    "print(na1me)"
   ]
  },
  {
   "cell_type": "code",
   "execution_count": 12,
   "id": "40451846",
   "metadata": {},
   "outputs": [
    {
     "name": "stdout",
     "output_type": "stream",
     "text": [
      "Vali\n"
     ]
    }
   ],
   "source": [
    "name1='Vali'\n",
    "print(name1)"
   ]
  },
  {
   "cell_type": "code",
   "execution_count": null,
   "id": "a860213f",
   "metadata": {},
   "outputs": [],
   "source": [
    "Rule 3: variable name should not contain any special characters"
   ]
  },
  {
   "cell_type": "code",
   "execution_count": 13,
   "id": "7c3fdbbd",
   "metadata": {},
   "outputs": [
    {
     "ename": "SyntaxError",
     "evalue": "invalid syntax (3739852041.py, line 2)",
     "output_type": "error",
     "traceback": [
      "\u001b[1;36m  File \u001b[1;32m\"C:\\Users\\ADMIN\\AppData\\Local\\Temp\\ipykernel_3068\\3739852041.py\"\u001b[1;36m, line \u001b[1;32m2\u001b[0m\n\u001b[1;33m    print(name@)\u001b[0m\n\u001b[1;37m               ^\u001b[0m\n\u001b[1;31mSyntaxError\u001b[0m\u001b[1;31m:\u001b[0m invalid syntax\n"
     ]
    }
   ],
   "source": [
    "name@='shamina'\n",
    "print(name@)"
   ]
  },
  {
   "cell_type": "code",
   "execution_count": null,
   "id": "ea9e4d6e",
   "metadata": {},
   "outputs": [],
   "source": [
    "Introduction to Data Types in python:\n",
    "    1. string-->str\n",
    "    2.lists-->list\n",
    "    3.Number--> integers(int) and floats(decimals)\n",
    "    4.tuple--> tuple\n",
    "    5.Dictionaries-->dic"
   ]
  },
  {
   "cell_type": "code",
   "execution_count": 14,
   "id": "9e154d67",
   "metadata": {},
   "outputs": [
    {
     "name": "stdout",
     "output_type": "stream",
     "text": [
      "Hussain\n",
      "Vali\n"
     ]
    }
   ],
   "source": [
    "name='Hussain'\n",
    "name2=\"Vali\"\n",
    "print(name)\n",
    "print(name2)"
   ]
  },
  {
   "cell_type": "code",
   "execution_count": 17,
   "id": "9f3cd74f",
   "metadata": {},
   "outputs": [
    {
     "data": {
      "text/plain": [
       "str"
      ]
     },
     "execution_count": 17,
     "metadata": {},
     "output_type": "execute_result"
    }
   ],
   "source": [
    "type(name)"
   ]
  },
  {
   "cell_type": "code",
   "execution_count": 18,
   "id": "9178d651",
   "metadata": {},
   "outputs": [
    {
     "data": {
      "text/plain": [
       "str"
      ]
     },
     "execution_count": 18,
     "metadata": {},
     "output_type": "execute_result"
    }
   ],
   "source": [
    "type(name2)"
   ]
  },
  {
   "cell_type": "code",
   "execution_count": 19,
   "id": "c24c3271",
   "metadata": {},
   "outputs": [
    {
     "name": "stdout",
     "output_type": "stream",
     "text": [
      "hussain Vali\n",
      "Hussain Vali\n",
      "HUSSAIN VALI\n",
      "hussain vali\n"
     ]
    }
   ],
   "source": [
    "fullname='hussain Vali'\n",
    "print(fullname)\n",
    "print(fullname.title())\n",
    "print(fullname.upper())\n",
    "print(fullname.lower())"
   ]
  },
  {
   "cell_type": "code",
   "execution_count": null,
   "id": "78b6c469",
   "metadata": {},
   "outputs": [],
   "source": []
  },
  {
   "cell_type": "code",
   "execution_count": null,
   "id": "d6bb578e",
   "metadata": {},
   "outputs": [],
   "source": []
  },
  {
   "cell_type": "code",
   "execution_count": null,
   "id": "98c3962f",
   "metadata": {},
   "outputs": [],
   "source": []
  },
  {
   "cell_type": "code",
   "execution_count": null,
   "id": "06ae604e",
   "metadata": {},
   "outputs": [],
   "source": []
  },
  {
   "cell_type": "code",
   "execution_count": null,
   "id": "db0cd577",
   "metadata": {},
   "outputs": [],
   "source": []
  },
  {
   "cell_type": "code",
   "execution_count": null,
   "id": "0fc25f25",
   "metadata": {},
   "outputs": [],
   "source": []
  },
  {
   "cell_type": "code",
   "execution_count": null,
   "id": "ff47c418",
   "metadata": {},
   "outputs": [],
   "source": []
  }
 ],
 "metadata": {
  "kernelspec": {
   "display_name": "Python 3 (ipykernel)",
   "language": "python",
   "name": "python3"
  },
  "language_info": {
   "codemirror_mode": {
    "name": "ipython",
    "version": 3
   },
   "file_extension": ".py",
   "mimetype": "text/x-python",
   "name": "python",
   "nbconvert_exporter": "python",
   "pygments_lexer": "ipython3",
   "version": "3.9.13"
  }
 },
 "nbformat": 4,
 "nbformat_minor": 5
}
