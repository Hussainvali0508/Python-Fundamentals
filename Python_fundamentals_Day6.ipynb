{
 "cells": [
  {
   "cell_type": "code",
   "execution_count": null,
   "id": "0d08d3fe",
   "metadata": {},
   "outputs": [],
   "source": [
    "Introduction to looping statements;\n",
    "\n",
    "understanding the concept of for loop"
   ]
  },
  {
   "cell_type": "code",
   "execution_count": null,
   "id": "1a635fd4",
   "metadata": {},
   "outputs": [],
   "source": [
    "#general syntax of the for loop\n",
    "\n",
    "#formualae:\n",
    "\n",
    "for temp_var in main_var\n",
    "print(temp_var)"
   ]
  },
  {
   "cell_type": "code",
   "execution_count": 2,
   "id": "a768679a",
   "metadata": {},
   "outputs": [
    {
     "name": "stdout",
     "output_type": "stream",
     "text": [
      "['ram', 'lakshman', 'bharath', 'shathru', 'seetha', 'urmila']\n"
     ]
    }
   ],
   "source": [
    "students=['ram','lakshman','bharath','shathru','seetha','urmila']\n",
    "print(students)"
   ]
  },
  {
   "cell_type": "code",
   "execution_count": 3,
   "id": "53209fd0",
   "metadata": {},
   "outputs": [
    {
     "data": {
      "text/plain": [
       "list"
      ]
     },
     "execution_count": 3,
     "metadata": {},
     "output_type": "execute_result"
    }
   ],
   "source": [
    "type(students)"
   ]
  },
  {
   "cell_type": "code",
   "execution_count": null,
   "id": "45047ea7",
   "metadata": {},
   "outputs": [],
   "source": [
    "#reqq: i want to appreciate the above students in the list........."
   ]
  },
  {
   "cell_type": "code",
   "execution_count": 9,
   "id": "17ffd566",
   "metadata": {},
   "outputs": [
    {
     "name": "stdout",
     "output_type": "stream",
     "text": [
      "keepup the good work,Ram\n",
      "keepup the good work,Lakshman\n",
      "keepup the good work,Shathru\n"
     ]
    }
   ],
   "source": [
    "print(f\"keepup the good work,{students[0].title()}\")\n",
    "print(f\"keepup the good work,{students[1].title()}\")\n",
    "print(f\"keepup the good work,{students[3].title()}\")"
   ]
  },
  {
   "cell_type": "code",
   "execution_count": 10,
   "id": "2f839042",
   "metadata": {},
   "outputs": [
    {
     "name": "stdout",
     "output_type": "stream",
     "text": [
      "keepup the good work,ram\n",
      "keepup the good work,lakshman\n",
      "keepup the good work,bharath\n",
      "keepup the good work,shathru\n",
      "keepup the good work,seetha\n",
      "keepup the good work,urmila\n"
     ]
    }
   ],
   "source": [
    "for x in students:\n",
    "    print(f\"keepup the good work,{x}\")"
   ]
  },
  {
   "cell_type": "code",
   "execution_count": null,
   "id": "346944e3",
   "metadata": {},
   "outputs": [],
   "source": [
    "\n",
    "for temp_var in main_var\n",
    "print(temp_var)"
   ]
  },
  {
   "cell_type": "code",
   "execution_count": 17,
   "id": "96d3467c",
   "metadata": {},
   "outputs": [
    {
     "ename": "IndentationError",
     "evalue": "expected an indented block (1535367992.py, line 3)",
     "output_type": "error",
     "traceback": [
      "\u001b[1;36m  File \u001b[1;32m\"C:\\Users\\ADMIN\\AppData\\Local\\Temp\\ipykernel_18428\\1535367992.py\"\u001b[1;36m, line \u001b[1;32m3\u001b[0m\n\u001b[1;33m    print(a)\u001b[0m\n\u001b[1;37m    ^\u001b[0m\n\u001b[1;31mIndentationError\u001b[0m\u001b[1;31m:\u001b[0m expected an indented block\n"
     ]
    }
   ],
   "source": [
    "students=['ram','lakshman','bharath','shathru','seetha','urmila']\n",
    "for a in students:\n",
    "print(a)"
   ]
  },
  {
   "cell_type": "code",
   "execution_count": null,
   "id": "411c7506",
   "metadata": {},
   "outputs": [],
   "source": [
    "#req: i want to remind them that i will be looking orward for the running notes of the day"
   ]
  },
  {
   "cell_type": "code",
   "execution_count": 19,
   "id": "c8525b7b",
   "metadata": {},
   "outputs": [
    {
     "name": "stdout",
     "output_type": "stream",
     "text": [
      "keep up the good work,ram\n",
      "i will be looking forward for today submission,ram\n",
      "keep up the good work,lakshman\n",
      "i will be looking forward for today submission,lakshman\n",
      "keep up the good work,bharath\n",
      "i will be looking forward for today submission,bharath\n",
      "keep up the good work,shathru\n",
      "i will be looking forward for today submission,shathru\n",
      "keep up the good work,seetha\n",
      "i will be looking forward for today submission,seetha\n",
      "keep up the good work,urmila\n",
      "i will be looking forward for today submission,urmila\n"
     ]
    }
   ],
   "source": [
    "for x in students:\n",
    "    print(f\"keep up the good work,{x}\")\n",
    "    print(f\"i will be looking forward for today submission,{x}\")"
   ]
  },
  {
   "cell_type": "code",
   "execution_count": 20,
   "id": "c319bf75",
   "metadata": {},
   "outputs": [
    {
     "name": "stdout",
     "output_type": "stream",
     "text": [
      "keep up the good work,ram\n",
      "i will be looking forward for today submission,ram\n",
      "\n",
      "keep up the good work,lakshman\n",
      "i will be looking forward for today submission,lakshman\n",
      "\n",
      "keep up the good work,bharath\n",
      "i will be looking forward for today submission,bharath\n",
      "\n",
      "keep up the good work,shathru\n",
      "i will be looking forward for today submission,shathru\n",
      "\n",
      "keep up the good work,seetha\n",
      "i will be looking forward for today submission,seetha\n",
      "\n",
      "keep up the good work,urmila\n",
      "i will be looking forward for today submission,urmila\n",
      "\n"
     ]
    }
   ],
   "source": [
    "for x in students:\n",
    "    print(f\"keep up the good work,{x}\")\n",
    "    print(f\"i will be looking forward for today submission,{x}\\n\")"
   ]
  },
  {
   "cell_type": "code",
   "execution_count": 21,
   "id": "484b4e3f",
   "metadata": {},
   "outputs": [
    {
     "name": "stdout",
     "output_type": "stream",
     "text": [
      "keep up the good work,ram\n",
      "i will be looking forward for today submission,ram\t\n",
      "keep up the good work,lakshman\n",
      "i will be looking forward for today submission,lakshman\t\n",
      "keep up the good work,bharath\n",
      "i will be looking forward for today submission,bharath\t\n",
      "keep up the good work,shathru\n",
      "i will be looking forward for today submission,shathru\t\n",
      "keep up the good work,seetha\n",
      "i will be looking forward for today submission,seetha\t\n",
      "keep up the good work,urmila\n",
      "i will be looking forward for today submission,urmila\t\n"
     ]
    }
   ],
   "source": [
    "for x in students:\n",
    "    print(f\"keep up the good work,{x}\")\n",
    "    print(f\"i will be looking forward for today submission,{x}\\t\")"
   ]
  },
  {
   "cell_type": "code",
   "execution_count": 23,
   "id": "1b0f2349",
   "metadata": {},
   "outputs": [
    {
     "name": "stdout",
     "output_type": "stream",
     "text": [
      "keep up the good work,ram\t\n",
      "i will be looking forward for today submission,ram\n",
      "keep up the good work,lakshman\t\n",
      "i will be looking forward for today submission,lakshman\n",
      "keep up the good work,bharath\t\n",
      "i will be looking forward for today submission,bharath\n",
      "keep up the good work,shathru\t\n",
      "i will be looking forward for today submission,shathru\n",
      "keep up the good work,seetha\t\n",
      "i will be looking forward for today submission,seetha\n",
      "keep up the good work,urmila\t\n",
      "i will be looking forward for today submission,urmila\n"
     ]
    }
   ],
   "source": [
    "for x in students:\n",
    "    print(f\"keep up the good work,{x}\\t\")\n",
    "    print(f\"i will be looking forward for today submission,{x}\")"
   ]
  }
 ],
 "metadata": {
  "kernelspec": {
   "display_name": "Python 3 (ipykernel)",
   "language": "python",
   "name": "python3"
  },
  "language_info": {
   "codemirror_mode": {
    "name": "ipython",
    "version": 3
   },
   "file_extension": ".py",
   "mimetype": "text/x-python",
   "name": "python",
   "nbconvert_exporter": "python",
   "pygments_lexer": "ipython3",
   "version": "3.9.13"
  }
 },
 "nbformat": 4,
 "nbformat_minor": 5
}
