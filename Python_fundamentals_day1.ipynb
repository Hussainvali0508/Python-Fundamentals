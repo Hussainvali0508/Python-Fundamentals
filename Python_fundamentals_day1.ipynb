{
 "cells": [
  {
   "cell_type": "code",
   "execution_count": 2,
   "id": "a60ef18c",
   "metadata": {},
   "outputs": [
    {
     "name": "stdout",
     "output_type": "stream",
     "text": [
      "Hello all welcome\n"
     ]
    }
   ],
   "source": [
    "print(\"Hello all welcome\")"
   ]
  },
  {
   "cell_type": "code",
   "execution_count": 4,
   "id": "4f6a5fa0",
   "metadata": {},
   "outputs": [
    {
     "name": "stdout",
     "output_type": "stream",
     "text": [
      "Hello all welcome\n"
     ]
    }
   ],
   "source": [
    "print(\"Hello all welcome\")\n"
   ]
  },
  {
   "cell_type": "code",
   "execution_count": 5,
   "id": "af11f441",
   "metadata": {},
   "outputs": [
    {
     "name": "stdout",
     "output_type": "stream",
     "text": [
      "Hello all welcome\n"
     ]
    }
   ],
   "source": [
    "print(\"Hello all welcome\")\n"
   ]
  },
  {
   "cell_type": "code",
   "execution_count": null,
   "id": "1d216ec9",
   "metadata": {},
   "outputs": [],
   "source": []
  },
  {
   "cell_type": "code",
   "execution_count": null,
   "id": "450aeff7",
   "metadata": {},
   "outputs": [],
   "source": []
  }
 ],
 "metadata": {
  "kernelspec": {
   "display_name": "Python 3 (ipykernel)",
   "language": "python",
   "name": "python3"
  },
  "language_info": {
   "codemirror_mode": {
    "name": "ipython",
    "version": 3
   },
   "file_extension": ".py",
   "mimetype": "text/x-python",
   "name": "python",
   "nbconvert_exporter": "python",
   "pygments_lexer": "ipython3",
   "version": "3.9.13"
  }
 },
 "nbformat": 4,
 "nbformat_minor": 5
}
