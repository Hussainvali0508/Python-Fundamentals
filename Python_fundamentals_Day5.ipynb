{
 "cells": [
  {
   "cell_type": "code",
   "execution_count": null,
   "id": "dc66a41c",
   "metadata": {},
   "outputs": [],
   "source": [
    "Working with the list data types:-"
   ]
  },
  {
   "cell_type": "code",
   "execution_count": null,
   "id": "102c8414",
   "metadata": {},
   "outputs": [],
   "source": [
    "organaising the list data type:"
   ]
  },
  {
   "cell_type": "code",
   "execution_count": null,
   "id": "cb6cc3ed",
   "metadata": {},
   "outputs": [],
   "source": [
    "cars=['kia','benz','maruthi','honda','bmw','audi']"
   ]
  },
  {
   "cell_type": "code",
   "execution_count": null,
   "id": "a670572e",
   "metadata": {},
   "outputs": [],
   "source": [
    "#req: i want to print the list in the alphabetical order--->A-Z"
   ]
  },
  {
   "cell_type": "code",
   "execution_count": null,
   "id": "20cee110",
   "metadata": {},
   "outputs": [],
   "source": [
    "Teo approches:\n",
    "    1.temporory Approche=====>sorted------->we can maintain the original order\n",
    "    of the list\n",
    "    2.Permanent Approche====>sort------->changes are applied permanently"
   ]
  },
  {
   "cell_type": "code",
   "execution_count": 3,
   "id": "890ce0c7",
   "metadata": {},
   "outputs": [
    {
     "name": "stdout",
     "output_type": "stream",
     "text": [
      "['audi', 'benz', 'bmw', 'honda', 'kia', 'maruthi']\n"
     ]
    }
   ],
   "source": [
    "cars=['kia','benz','maruthi','honda','bmw','audi']\n",
    "print(sorted(cars))"
   ]
  },
  {
   "cell_type": "code",
   "execution_count": 4,
   "id": "b2a47594",
   "metadata": {},
   "outputs": [
    {
     "name": "stdout",
     "output_type": "stream",
     "text": [
      "['kia', 'benz', 'maruthi', 'honda', 'bmw', 'audi']\n"
     ]
    }
   ],
   "source": [
    "print(cars)"
   ]
  },
  {
   "cell_type": "code",
   "execution_count": 9,
   "id": "1d05f4cc",
   "metadata": {},
   "outputs": [
    {
     "name": "stdout",
     "output_type": "stream",
     "text": [
      "['audi', 'benz', 'bmw', 'honda', 'kia', 'maruthi']\n"
     ]
    }
   ],
   "source": [
    "cars.sort()\n",
    "print(cars)"
   ]
  },
  {
   "cell_type": "code",
   "execution_count": 10,
   "id": "8a1e3640",
   "metadata": {},
   "outputs": [
    {
     "name": "stdout",
     "output_type": "stream",
     "text": [
      "['audi', 'benz', 'bmw', 'honda', 'kia', 'maruthi']\n"
     ]
    }
   ],
   "source": [
    "print(cars)"
   ]
  },
  {
   "cell_type": "code",
   "execution_count": null,
   "id": "0bdcfb6f",
   "metadata": {},
   "outputs": [],
   "source": [
    "Interview Question: what is the difference b/w sorted and sort method in a list"
   ]
  },
  {
   "cell_type": "code",
   "execution_count": null,
   "id": "88dbc14f",
   "metadata": {},
   "outputs": [],
   "source": [
    "#i want to print the list in reverse order"
   ]
  },
  {
   "cell_type": "code",
   "execution_count": 11,
   "id": "a601c119",
   "metadata": {},
   "outputs": [
    {
     "name": "stdout",
     "output_type": "stream",
     "text": [
      "['audi', 'benz', 'bmw', 'honda', 'kia', 'maruthi']\n"
     ]
    }
   ],
   "source": [
    "print(cars)"
   ]
  },
  {
   "cell_type": "code",
   "execution_count": 12,
   "id": "c6f5cebd",
   "metadata": {},
   "outputs": [
    {
     "name": "stdout",
     "output_type": "stream",
     "text": [
      "['maruthi', 'kia', 'honda', 'bmw', 'benz', 'audi']\n"
     ]
    }
   ],
   "source": [
    "cars.reverse()\n",
    "print(cars)"
   ]
  },
  {
   "cell_type": "code",
   "execution_count": null,
   "id": "5a3f7f4f",
   "metadata": {},
   "outputs": [],
   "source": [
    "#i want to know the no of elements in the list"
   ]
  },
  {
   "cell_type": "code",
   "execution_count": 17,
   "id": "f09d7f4b",
   "metadata": {},
   "outputs": [
    {
     "data": {
      "text/plain": [
       "list"
      ]
     },
     "execution_count": 17,
     "metadata": {},
     "output_type": "execute_result"
    }
   ],
   "source": [
    "\n",
    "type(cars)"
   ]
  },
  {
   "cell_type": "code",
   "execution_count": 18,
   "id": "7dd45eca",
   "metadata": {},
   "outputs": [
    {
     "data": {
      "text/plain": [
       "6"
      ]
     },
     "execution_count": 18,
     "metadata": {},
     "output_type": "execute_result"
    }
   ],
   "source": [
    "len(cars)"
   ]
  },
  {
   "cell_type": "code",
   "execution_count": null,
   "id": "3e131bb5",
   "metadata": {},
   "outputs": [],
   "source": [
    "Introducing to Slicing"
   ]
  },
  {
   "cell_type": "code",
   "execution_count": null,
   "id": "aca9ef03",
   "metadata": {},
   "outputs": [],
   "source": [
    "students=['ram','lakshman','bharath','shathru','seetha','urmila','hussain','vali']"
   ]
  },
  {
   "cell_type": "code",
   "execution_count": 20,
   "id": "7a540639",
   "metadata": {},
   "outputs": [
    {
     "name": "stdout",
     "output_type": "stream",
     "text": [
      "['ram', 'lakshman', 'bharath', 'shathru', 'seetha', 'urmila', 'hussain', 'vali']\n"
     ]
    }
   ],
   "source": [
    "students=['ram','lakshman','bharath','shathru','seetha','urmila','hussain','vali']\n",
    "print(students)"
   ]
  },
  {
   "cell_type": "code",
   "execution_count": 22,
   "id": "204807d9",
   "metadata": {},
   "outputs": [
    {
     "data": {
      "text/plain": [
       "['ram',\n",
       " 'lakshman',\n",
       " 'bharath',\n",
       " 'shathru',\n",
       " 'seetha',\n",
       " 'urmila',\n",
       " 'hussain',\n",
       " 'vali']"
      ]
     },
     "execution_count": 22,
     "metadata": {},
     "output_type": "execute_result"
    }
   ],
   "source": [
    "list(students)"
   ]
  },
  {
   "cell_type": "code",
   "execution_count": 23,
   "id": "269b6816",
   "metadata": {},
   "outputs": [
    {
     "data": {
      "text/plain": [
       "list"
      ]
     },
     "execution_count": 23,
     "metadata": {},
     "output_type": "execute_result"
    }
   ],
   "source": [
    "type(students)"
   ]
  },
  {
   "cell_type": "code",
   "execution_count": null,
   "id": "34d7457e",
   "metadata": {},
   "outputs": [],
   "source": [
    "#general syntax of slicing\n",
    "[startvalue:stopvalue:stepcount]\n",
    "NOTE:stopvalue is always exclusive      -to include we have to increment the index by+ 1"
   ]
  },
  {
   "cell_type": "code",
   "execution_count": null,
   "id": "fbbe6678",
   "metadata": {},
   "outputs": [],
   "source": [
    "#req: i want to ram and lakshman in the output?"
   ]
  },
  {
   "cell_type": "code",
   "execution_count": 26,
   "id": "b52278f9",
   "metadata": {},
   "outputs": [
    {
     "name": "stdout",
     "output_type": "stream",
     "text": [
      "['ram']\n"
     ]
    }
   ],
   "source": [
    "print(students[0:1])"
   ]
  },
  {
   "cell_type": "code",
   "execution_count": 27,
   "id": "f756e40b",
   "metadata": {},
   "outputs": [
    {
     "name": "stdout",
     "output_type": "stream",
     "text": [
      "['ram', 'lakshman']\n"
     ]
    }
   ],
   "source": [
    "print(students[0:2])"
   ]
  },
  {
   "cell_type": "code",
   "execution_count": 28,
   "id": "5926d91b",
   "metadata": {},
   "outputs": [
    {
     "name": "stdout",
     "output_type": "stream",
     "text": [
      "['ram', 'lakshman', 'bharath']\n"
     ]
    }
   ],
   "source": [
    "print(students[0:3])"
   ]
  },
  {
   "cell_type": "code",
   "execution_count": 29,
   "id": "ed7a15b4",
   "metadata": {},
   "outputs": [
    {
     "name": "stdout",
     "output_type": "stream",
     "text": [
      "['bharath', 'shathru', 'seetha']\n"
     ]
    }
   ],
   "source": [
    "print(students[2:5])"
   ]
  },
  {
   "cell_type": "code",
   "execution_count": 30,
   "id": "31a3d3ce",
   "metadata": {},
   "outputs": [
    {
     "name": "stdout",
     "output_type": "stream",
     "text": [
      "['hussain', 'vali']\n"
     ]
    }
   ],
   "source": [
    "print(students[6:8])"
   ]
  },
  {
   "cell_type": "code",
   "execution_count": 31,
   "id": "ef65367e",
   "metadata": {},
   "outputs": [
    {
     "name": "stdout",
     "output_type": "stream",
     "text": [
      "['ram', 'lakshman', 'bharath', 'shathru', 'seetha', 'urmila', 'hussain', 'vali']\n"
     ]
    }
   ],
   "source": [
    "print(students)"
   ]
  },
  {
   "cell_type": "code",
   "execution_count": 32,
   "id": "bdd1d3cc",
   "metadata": {},
   "outputs": [
    {
     "name": "stdout",
     "output_type": "stream",
     "text": [
      "['ram', 'bharath', 'seetha', 'hussain']\n"
     ]
    }
   ],
   "source": [
    "print(students[0:8:2])"
   ]
  },
  {
   "cell_type": "code",
   "execution_count": 33,
   "id": "5aff4396",
   "metadata": {},
   "outputs": [
    {
     "name": "stdout",
     "output_type": "stream",
     "text": [
      "['ram', 'shathru', 'hussain']\n"
     ]
    }
   ],
   "source": [
    "print(students[0:8:3])"
   ]
  },
  {
   "cell_type": "code",
   "execution_count": null,
   "id": "df382e59",
   "metadata": {},
   "outputs": [],
   "source": []
  }
 ],
 "metadata": {
  "kernelspec": {
   "display_name": "Python 3 (ipykernel)",
   "language": "python",
   "name": "python3"
  },
  "language_info": {
   "codemirror_mode": {
    "name": "ipython",
    "version": 3
   },
   "file_extension": ".py",
   "mimetype": "text/x-python",
   "name": "python",
   "nbconvert_exporter": "python",
   "pygments_lexer": "ipython3",
   "version": "3.9.13"
  }
 },
 "nbformat": 4,
 "nbformat_minor": 5
}
